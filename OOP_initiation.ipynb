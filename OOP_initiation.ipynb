{
 "cells": [
  {
   "cell_type": "code",
   "execution_count": null,
   "metadata": {},
   "outputs": [],
   "source": [
    "'''\n",
    "Create a Vehicle class with max_speed and mileage instance attributes\n",
    "'''\n",
    "'''\n",
    "https://www.w3schools.com/python/python_classes.asp\n",
    "Create a class named MyClass, with a property named x:\n",
    "\n",
    "class MyClass:\n",
    "  x = 5\n",
    "'''\n",
    "\n",
    "class Vehicle:\n",
    "    max_speed = 0\n",
    "    mileage = 0\n",
    "\n"
   ]
  },
  {
   "cell_type": "code",
   "execution_count": 6,
   "metadata": {},
   "outputs": [
    {
     "data": {
      "text/plain": [
       "True"
      ]
     },
     "execution_count": 6,
     "metadata": {},
     "output_type": "execute_result"
    }
   ],
   "source": [
    "'''\n",
    "Create a class, Triangle. Its __init__() method should take self, angle1, angle2, and angle3 as arguments.\n",
    "\n",
    "Make sure to set these appropriately in the body of the __init__()method.\n",
    "\n",
    "Create a variable named number_of_sides and set it equal to 3.\n",
    "\n",
    "Create a method named check_angles.\n",
    "\n",
    "The sum of a triangle's three angles is It should return True if the sum of self.angle1, self.angle2, \n",
    "and self.angle3 is equal 180, and False otherwise.\n",
    "\n",
    "Create a variable named my_triangle and set it equal to a new instance of your Triangle class.\n",
    "Pass it three angles that sum to 180 (e.g. 90, 30, 60).\n",
    "\n",
    "Print out my_triangle.number_of_sides and print out my_triangle.check_angles().\n",
    "'''\n",
    "\n",
    "'''\n",
    "https://www.w3schools.com/python/python_classes.asp\n",
    "Create a class named Person, use the __init__() function to assign values for name and age:\n",
    "\n",
    "class Person:\n",
    "  def __init__(self, name, age):\n",
    "    self.name = name\n",
    "    self.age = age\n",
    "\n",
    "p1 = Person(\"John\", 36)\n",
    "\n",
    "print(p1.name)\n",
    "print(p1.age)\n",
    "\n",
    "https://www.google.com/search?q=create+a+method+in+python&oq=create+a+method+&aqs=chrome.7.69i57j0l5j0i22i30i395l4.6640j1j7&sourceid=chrome&ie=UTF-8#kpvalbx=_DE0JYK3eGaGjgweo0LjwDg13\n",
    "https://stackoverflow.com/questions/60242250/typeerror-init-missing-3-required-positional-arguments/60242291\n",
    "'''\n",
    "\n",
    "class Triangle:\n",
    "    def __init__(self,angle1,angle2,angle3):\n",
    "        self.angle1 = angle1\n",
    "        self.angle2 = angle2\n",
    "        self.angle3 = angle3\n",
    "        \n",
    "    def check_angles (self,angle1,angle2,angle3):\n",
    "        self.result = angle1 + angle2 + angle3\n",
    "        if self.result == 180 :\n",
    "            return True\n",
    "        elif self.result != 180 :\n",
    "            return False\n",
    "        return print(\"Mauvaise manip\")\n",
    "\n",
    "number_of_sides = 3\n",
    "\n",
    "my_triangle = Triangle(90,30,60)\n",
    "my_triangle.check_angles (90,30,60)\n",
    "\n",
    "\n",
    "\n",
    "\n"
   ]
  },
  {
   "cell_type": "code",
   "execution_count": 34,
   "metadata": {},
   "outputs": [
    {
     "name": "stdout",
     "output_type": "stream",
     "text": [
      "Vehicule fare :  3500\n",
      "Bus Fare : 3850.0000000000005\n"
     ]
    }
   ],
   "source": [
    "'''\n",
    "Create a Bus child class that inherits from the Vehicle class.\n",
    "\n",
    "The default fare charge of any vehicle is seating capacity * 100.\n",
    "\n",
    "If Vehicle is Bus instance, we need to add an extra 10% on full fare as a maintenance charge.\n",
    "\n",
    "So total fare for bus instance will become the final amount = total fare + 10% of the total fare.\n",
    "'''\n",
    "'''\n",
    "#https://www.w3schools.com/python/python_inheritance.asp\n",
    "class Person:\n",
    "  def __init__(self, fname, lname):\n",
    "    self.firstname = fname\n",
    "    self.lastname = lname\n",
    "\n",
    "  def printname(self):\n",
    "    print(self.firstname, self.lastname)\n",
    "\n",
    "class Student(Person):\n",
    "  def __init__(self, fname, lname, year):\n",
    "    super().__init__(fname, lname)\n",
    "    self.graduationyear = year\n",
    "\n",
    "  def welcome(self):\n",
    "    print(\"Welcome\", self.firstname, self.lastname, \"to the class of\", self.graduationyear)\n",
    "\n",
    "x = Student(\"Mike\", \"Olsen\", 2019)\n",
    "x.welcome()\n",
    "\n",
    "output : Welcome Mike Olsen to the class of 2019\n",
    "'''\n",
    "class Vehicle:\n",
    "    def __init__(self,max_speed,mileage):\n",
    "        self.max_speed = max_speed\n",
    "        self.mileage = mileage\n",
    "        #Capacity est définit à vide et sera remplit plus tard dan sle prog, \n",
    "        # je peux aussi le mettre en argument de mon init et passer self.capacity = capactity\n",
    "        self.capacity = []\n",
    "    \n",
    "    def fare (self):\n",
    "        #Default fare est une variable qui utilise les attributs de \"init\"\n",
    "        #Donc il n'a pas besoin de self\n",
    "        default_fare = self.capacity * 100\n",
    "        return default_fare\n",
    "        \n",
    "class Bus (Vehicle) :\n",
    "    def fare_bus_function (self):\n",
    "        #\n",
    "        bus_fare = self.fare()*1.1\n",
    "        return bus_fare\n",
    "\n",
    "    \n",
    "my_vehicule = Vehicle (100,0)\n",
    "my_vehicule.capacity = 35\n",
    "\n",
    "print(\"Vehicule fare : \" ,my_vehicule_fare.fare())\n",
    "\n",
    "\n",
    "#My_bus_fare a besoin d'avoir les argument pour définir la classe véhicules\n",
    "#qu'il a hérité dans la Bus class\n",
    "my_bus = Bus (100,0)\n",
    "my_bus.capacity = 35\n",
    "\n",
    "print(\"Bus Fare :\",my_bus.fare_bus_function ())\n",
    "    \n",
    "    \n",
    "    \n",
    "\n"
   ]
  },
  {
   "cell_type": "code",
   "execution_count": null,
   "metadata": {},
   "outputs": [],
   "source": [
    "'''\n",
    "Write a Python class to convert an integer to a roman numeral\n",
    "'''"
   ]
  },
  {
   "cell_type": "code",
   "execution_count": null,
   "metadata": {},
   "outputs": [],
   "source": [
    "'''\n",
    "Write a Python class to get all possible unique subsets from a set of distinct integers. \n",
    "Input : [4, 5, 6]\n",
    "Output : [[], [6], [5], [5, 6], [4], [4, 6], [4, 5], [4, 5, 6]]\n",
    "'''"
   ]
  },
  {
   "cell_type": "code",
   "execution_count": null,
   "metadata": {},
   "outputs": [],
   "source": [
    "'''\n",
    "Write a Python class named Circle constructed by a radius and two methods\n",
    "\n",
    "which will compute the area and the perimeter of a circle\n",
    "'''"
   ]
  },
  {
   "cell_type": "code",
   "execution_count": null,
   "metadata": {},
   "outputs": [],
   "source": [
    "'''\n",
    "Define a class called Lunch.Its __init__() method should have two arguments:selfanf menu.\n",
    "\n",
    "Where menu is a string. Add a method called menu_price.It will involve a ifstatement:\n",
    "\n",
    "if \"menu 1\" print \"Your choice:\", menu, \"Price 12.00\", if \"menu 2\" print \"Your choice:\", menu, \"Price 13.40\",\n",
    "else print \"Error in menu\".\n",
    "\n",
    "To check if it works define: Paul=Lunch(\"menu 1\") and call Paul.menu_price().\n",
    "'''"
   ]
  },
  {
   "cell_type": "code",
   "execution_count": null,
   "metadata": {},
   "outputs": [],
   "source": [
    "'''\n",
    "Define a class named Shape and its subclass Square. The Square class has an init function which takes a length as argument. Both classes have a area function which can print the area of the shape where Shape's area is 0 by default.\n",
    "\n",
    "Hints:\n",
    "\n",
    "To override a method in super class, we can define a method with the same name in the super class.\n",
    "\n",
    "\n",
    "'''"
   ]
  },
  {
   "cell_type": "code",
   "execution_count": null,
   "metadata": {},
   "outputs": [],
   "source": [
    "'''\n",
    "Define a class named Rectangle which can be constructed by a length and width. The Rectangle class has a method which can compute the area. \n",
    "\n",
    "Hints:\n",
    "\n",
    "Use def methodName(self) to define a method.\n",
    "'''"
   ]
  },
  {
   "cell_type": "code",
   "execution_count": null,
   "metadata": {},
   "outputs": [],
   "source": [
    "'''\n",
    "Define a Point3D class that inherits from object Inside the Point3D class,\n",
    "define an __init__() function that accepts self, x, y, and z, and \n",
    "assigns these numbers to the member variables self.x,self.y,self.z. \n",
    "\n",
    "Define a __repr__() method that returns \"(%d, %d, %d)\" % (self.x, self.y, self.z). This tells Python to represent this object in the following format: (x, y, z). Outside the class definition, create a variable named my_point containing a new instance of Point3D with x=1, y=2, and z=3. Finally, print my_point.\n",
    "'''"
   ]
  },
  {
   "cell_type": "code",
   "execution_count": null,
   "metadata": {},
   "outputs": [],
   "source": [
    "'''\n",
    "A very common use case for inheritance is the creation of a custom exception hierarchy.\n",
    "Because we use the class of an exception to determine whether it should be caught by a particular except block, it is useful for us to define custom classes for exceptions which we want to raise in our code. Using inheritance in our classes is useful because if an except block catches a particular exception class, it will also catch its child classes (because a child class is its parent class). That means that we can efficiently write except blocks which handle groups of related exceptions, just by arranging them in a logical hierarchy. Our exception classes should inherit from Python’s built-in exception classes. They often won’t need to contain any additional attributes or methods.\n",
    "\n",
    "Write a simple program which loops over a list of user data (tuples containing a username, email and age)\n",
    "and adds each user to a directory if the user is at least 16 years old. You do not need to store the age.\n",
    "Write a simple exception hierarchy which defines a different exception for each of these error conditions:\n",
    "\n",
    "the username is not unique\n",
    "the age is not a positive integer\n",
    "the user is under 16\n",
    "the email address is not valid (a simple check for a username, the @ symbol and a domain name is sufficient)\n",
    "Raise these exceptions in your program where appropriate.\n",
    "Whenever an exception occurs, your program should move onto the next set of data in the list. \n",
    "Print a different error message for each different kind of exception.\n",
    "\n",
    "Think about where else it would be a good idea to use a custom class, and what kind of collection type would be most appropriate for your directory.\n",
    "\n",
    "You can consider an email address to be valid if it contains one @ symbol and has a non-empty username and domain name – you don’t need to check for valid characters. You can assume that the age is already an integer value.\n",
    "'''"
   ]
  },
  {
   "cell_type": "code",
   "execution_count": null,
   "metadata": {},
   "outputs": [],
   "source": []
  },
  {
   "cell_type": "code",
   "execution_count": null,
   "metadata": {},
   "outputs": [],
   "source": []
  },
  {
   "cell_type": "code",
   "execution_count": null,
   "metadata": {},
   "outputs": [],
   "source": []
  },
  {
   "cell_type": "code",
   "execution_count": null,
   "metadata": {},
   "outputs": [],
   "source": []
  }
 ],
 "metadata": {
  "kernelspec": {
   "display_name": "Python 3",
   "language": "python",
   "name": "python3"
  },
  "language_info": {
   "codemirror_mode": {
    "name": "ipython",
    "version": 3
   },
   "file_extension": ".py",
   "mimetype": "text/x-python",
   "name": "python",
   "nbconvert_exporter": "python",
   "pygments_lexer": "ipython3",
   "version": "3.8.5"
  }
 },
 "nbformat": 4,
 "nbformat_minor": 2
}
